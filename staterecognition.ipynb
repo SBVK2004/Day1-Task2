#This part is absolutely negligible part, it is required only if done in google-colab notebook 

from google.colab import files
import zipfile
import os

uploaded = files.upload()  

for fname in uploaded.keys():
    if fname.endswith(".zip"):
        with zipfile.ZipFile(fname, 'r') as zip_ref:
            zip_ref.extractall("data")  
        print(f"Extracted {fname}")

import os
for root, dirs, files in os.walk("data"):
    print("Folder:", root)
    for d in dirs:
        print("  Subfolder:", d)
    for f in files:
        print("  File:", f)
data_dir = "data/onoffnew"
data_dir = 'path/to/data'

#importing the libraries 

import torch
import torch.nn as nn
import torch.optim as optim
from torchvision import datasets, transforms, models
from torch.utils.data import random_split, DataLoader
from google.colab import files
import zipfile
import os

#Main coding part 

data_dir = "data/onoffnew"  
#Defining data transforms
data_transforms = {
    "train": transforms.Compose([
        transforms.Resize((224,224)),
        transforms.RandomHorizontalFlip(),
        transforms.RandomRotation(15),
        transforms.ColorJitter(brightness=0.2, contrast=0.2),
        transforms.ToTensor(),
        transforms.Normalize([0.485,0.456,0.406],[0.229,0.224,0.225])
    ]),
    "val": transforms.Compose([
        transforms.Resize((224,224)),
        transforms.ToTensor(),
        transforms.Normalize([0.485,0.456,0.406],[0.229,0.224,0.225])
    ]),
}

#Loading dataset

dataset = datasets.ImageFolder(data_dir, transform=data_transforms["train"])
print("Classes found:", dataset.classes)  # ['off', 'on']

#Spliting dataset

train_size = int(0.8 * len(dataset))
val_size = len(dataset) - train_size
train_ds, val_ds = random_split(dataset, [train_size, val_size])
val_ds.dataset.transform = data_transforms["val"]  # apply val transforms to val_ds

#Creating dataloaders
batch_size = 32
train_loader = DataLoader(train_ds, batch_size=batch_size, shuffle=True, num_workers=2)
val_loader = DataLoader(val_ds, batch_size=batch_size, shuffle=False, num_workers=2)
dataloaders = {"train": train_loader, "val": val_loader}

#Loading pretrained MobileNetV3 Small model
model = models.mobilenet_v3_small(pretrained=True)
model.classifier[3] = nn.Linear(model.classifier[3].in_features, 2)  


device = torch.device("cuda" if torch.cuda.is_available() else "cpu")
model = model.to(device)

#Loss function and optimizer
criterion = nn.CrossEntropyLoss()
optimizer = optim.Adam(model.parameters(), lr=1e-4)

#Training loop
num_epochs = 10
best_acc = 0.0

for epoch in range(num_epochs):
    print(f"\nEpoch {epoch+1}/{num_epochs}")
    for phase in ["train", "val"]:
        if phase == "train":
            model.train()
        else:
            model.eval()

        running_loss = 0.0
        running_corrects = 0

        for inputs, labels in dataloaders[phase]:
            inputs, labels = inputs.to(device), labels.to(device)
            optimizer.zero_grad()

            with torch.set_grad_enabled(phase == "train"):
                outputs = model(inputs)
                loss = criterion(outputs, labels)
                preds = outputs.argmax(dim=1)

                if phase == "train":
                    loss.backward()
                    optimizer.step()

            running_loss += loss.item() * inputs.size(0)
            running_corrects += torch.sum(preds == labels.data)

        epoch_loss = running_loss / len(dataloaders[phase].dataset)
        epoch_acc = running_corrects.double() / len(dataloaders[phase].dataset)

        print(f"{phase.capitalize()} Loss: {epoch_loss:.4f} | Acc: {epoch_acc:.4f}")


        if phase == "val" and epoch_acc > best_acc:
            best_acc = epoch_acc
            torch.save(model.state_dict(), "best_model.pth")

print(f"\nBest validation accuracy: {best_acc:.4f}")


#now we need to find accuracy of a image given by user

from PIL import Image
import matplotlib.pyplot as plt

uploaded_test = files.upload()  #this is for google colab only 
test_image_path = list(uploaded_test.keys())[0]

# Loading the model
model.load_state_dict(torch.load("best_model.pth"))
model.eval()

transform = transforms.Compose([
    transforms.Resize((224, 224)),
    transforms.ToTensor(),
    transforms.Normalize([0.485,0.456,0.406],[0.229,0.224,0.225])
])

class_names = dataset.classes  # ['off', 'on']


# Loading and preprocessing of the image
img = Image.open(test_image_path).convert('RGB')
input_tensor = transform(img).unsqueeze(0).to(device) 

with torch.no_grad():
    outputs = model(input_tensor)
    _, predicted = torch.max(outputs, 1)
    predicted_class = class_names[predicted.item()]


plt.imshow(img)
plt.title(f"Predicted: {predicted_class}")
plt.axis('off')
plt.show()
